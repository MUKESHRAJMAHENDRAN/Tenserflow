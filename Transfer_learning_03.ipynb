{
  "nbformat": 4,
  "nbformat_minor": 0,
  "metadata": {
    "colab": {
      "name": "Transfer_learning_03.ipynb",
      "provenance": [],
      "collapsed_sections": []
    },
    "kernelspec": {
      "name": "python3",
      "display_name": "Python 3"
    },
    "language_info": {
      "name": "python"
    },
    "accelerator": "GPU"
  },
  "cells": [
    {
      "cell_type": "markdown",
      "source": [
        "##Working with 101 food dataset with 10% data"
      ],
      "metadata": {
        "id": "QVG7MHeVTApy"
      }
    },
    {
      "cell_type": "code",
      "source": [
        "!nvidia-smi"
      ],
      "metadata": {
        "colab": {
          "base_uri": "https://localhost:8080/"
        },
        "id": "rGKNT5MuTvSs",
        "outputId": "3f645e92-1fd8-4538-b21e-4b34e6bcf355"
      },
      "execution_count": 1,
      "outputs": [
        {
          "output_type": "stream",
          "name": "stdout",
          "text": [
            "Wed Feb 16 14:40:10 2022       \n",
            "+-----------------------------------------------------------------------------+\n",
            "| NVIDIA-SMI 460.32.03    Driver Version: 460.32.03    CUDA Version: 11.2     |\n",
            "|-------------------------------+----------------------+----------------------+\n",
            "| GPU  Name        Persistence-M| Bus-Id        Disp.A | Volatile Uncorr. ECC |\n",
            "| Fan  Temp  Perf  Pwr:Usage/Cap|         Memory-Usage | GPU-Util  Compute M. |\n",
            "|                               |                      |               MIG M. |\n",
            "|===============================+======================+======================|\n",
            "|   0  Tesla T4            Off  | 00000000:00:04.0 Off |                    0 |\n",
            "| N/A   36C    P8     9W /  70W |      0MiB / 15109MiB |      0%      Default |\n",
            "|                               |                      |                  N/A |\n",
            "+-------------------------------+----------------------+----------------------+\n",
            "                                                                               \n",
            "+-----------------------------------------------------------------------------+\n",
            "| Processes:                                                                  |\n",
            "|  GPU   GI   CI        PID   Type   Process name                  GPU Memory |\n",
            "|        ID   ID                                                   Usage      |\n",
            "|=============================================================================|\n",
            "|  No running processes found                                                 |\n",
            "+-----------------------------------------------------------------------------+\n"
          ]
        }
      ]
    },
    {
      "cell_type": "code",
      "source": [
        "#Downloading the dataset\n",
        "!wget https://storage.googleapis.com/ztm_tf_course/food_vision/101_food_classes_10_percent.zip "
      ],
      "metadata": {
        "colab": {
          "base_uri": "https://localhost:8080/"
        },
        "id": "Msz2K3vLUGxV",
        "outputId": "0b93147d-1474-454f-c6d8-6855fa874a3c"
      },
      "execution_count": 2,
      "outputs": [
        {
          "output_type": "stream",
          "name": "stdout",
          "text": [
            "--2022-02-16 14:40:10--  https://storage.googleapis.com/ztm_tf_course/food_vision/101_food_classes_10_percent.zip\n",
            "Resolving storage.googleapis.com (storage.googleapis.com)... 108.177.126.128, 108.177.127.128, 142.250.153.128, ...\n",
            "Connecting to storage.googleapis.com (storage.googleapis.com)|108.177.126.128|:443... connected.\n",
            "HTTP request sent, awaiting response... 200 OK\n",
            "Length: 1625420029 (1.5G) [application/zip]\n",
            "Saving to: ‘101_food_classes_10_percent.zip’\n",
            "\n",
            "101_food_classes_10 100%[===================>]   1.51G  73.0MB/s    in 21s     \n",
            "\n",
            "2022-02-16 14:40:32 (73.0 MB/s) - ‘101_food_classes_10_percent.zip’ saved [1625420029/1625420029]\n",
            "\n"
          ]
        }
      ]
    },
    {
      "cell_type": "code",
      "source": [
        "#Data extraction from the zipfile\n",
        "import zipfile\n",
        "\n",
        "zip_ref = zipfile.ZipFile(\"101_food_classes_10_percent.zip\")\n",
        "zip_ref.extractall()\n",
        "zip_ref.close()"
      ],
      "metadata": {
        "id": "ejw7K95tUUgz"
      },
      "execution_count": 3,
      "outputs": []
    },
    {
      "cell_type": "code",
      "source": [
        "#Walk through the directories and understand it\n",
        "import os\n",
        "\n",
        "for dirpath, dirnames, filenames in os.walk(\"101_food_classes_10_percent\"):\n",
        "  print(f'There are {len(dirnames)} directories in {len(filenames)} in {dirpath}')"
      ],
      "metadata": {
        "colab": {
          "base_uri": "https://localhost:8080/"
        },
        "id": "O_CTW8RtV34l",
        "outputId": "11e6422f-4ad0-45cb-a3b9-43cfec9c722b"
      },
      "execution_count": 4,
      "outputs": [
        {
          "output_type": "stream",
          "name": "stdout",
          "text": [
            "There are 2 directories in 0 in 101_food_classes_10_percent\n",
            "There are 101 directories in 0 in 101_food_classes_10_percent/train\n",
            "There are 0 directories in 75 in 101_food_classes_10_percent/train/edamame\n",
            "There are 0 directories in 75 in 101_food_classes_10_percent/train/churros\n",
            "There are 0 directories in 75 in 101_food_classes_10_percent/train/carrot_cake\n",
            "There are 0 directories in 75 in 101_food_classes_10_percent/train/french_onion_soup\n",
            "There are 0 directories in 75 in 101_food_classes_10_percent/train/dumplings\n",
            "There are 0 directories in 75 in 101_food_classes_10_percent/train/pork_chop\n",
            "There are 0 directories in 75 in 101_food_classes_10_percent/train/waffles\n",
            "There are 0 directories in 75 in 101_food_classes_10_percent/train/apple_pie\n",
            "There are 0 directories in 75 in 101_food_classes_10_percent/train/hot_dog\n",
            "There are 0 directories in 75 in 101_food_classes_10_percent/train/shrimp_and_grits\n",
            "There are 0 directories in 75 in 101_food_classes_10_percent/train/tiramisu\n",
            "There are 0 directories in 75 in 101_food_classes_10_percent/train/breakfast_burrito\n",
            "There are 0 directories in 75 in 101_food_classes_10_percent/train/red_velvet_cake\n",
            "There are 0 directories in 75 in 101_food_classes_10_percent/train/croque_madame\n",
            "There are 0 directories in 75 in 101_food_classes_10_percent/train/caesar_salad\n",
            "There are 0 directories in 75 in 101_food_classes_10_percent/train/strawberry_shortcake\n",
            "There are 0 directories in 75 in 101_food_classes_10_percent/train/macaroni_and_cheese\n",
            "There are 0 directories in 75 in 101_food_classes_10_percent/train/lobster_bisque\n",
            "There are 0 directories in 75 in 101_food_classes_10_percent/train/french_toast\n",
            "There are 0 directories in 75 in 101_food_classes_10_percent/train/cannoli\n",
            "There are 0 directories in 75 in 101_food_classes_10_percent/train/cheesecake\n",
            "There are 0 directories in 75 in 101_food_classes_10_percent/train/pho\n",
            "There are 0 directories in 75 in 101_food_classes_10_percent/train/pad_thai\n",
            "There are 0 directories in 75 in 101_food_classes_10_percent/train/ice_cream\n",
            "There are 0 directories in 75 in 101_food_classes_10_percent/train/spaghetti_carbonara\n",
            "There are 0 directories in 75 in 101_food_classes_10_percent/train/paella\n",
            "There are 0 directories in 75 in 101_food_classes_10_percent/train/samosa\n",
            "There are 0 directories in 75 in 101_food_classes_10_percent/train/spring_rolls\n",
            "There are 0 directories in 75 in 101_food_classes_10_percent/train/miso_soup\n",
            "There are 0 directories in 75 in 101_food_classes_10_percent/train/beet_salad\n",
            "There are 0 directories in 75 in 101_food_classes_10_percent/train/chicken_quesadilla\n",
            "There are 0 directories in 75 in 101_food_classes_10_percent/train/frozen_yogurt\n",
            "There are 0 directories in 75 in 101_food_classes_10_percent/train/panna_cotta\n",
            "There are 0 directories in 75 in 101_food_classes_10_percent/train/escargots\n",
            "There are 0 directories in 75 in 101_food_classes_10_percent/train/bread_pudding\n",
            "There are 0 directories in 75 in 101_food_classes_10_percent/train/takoyaki\n",
            "There are 0 directories in 75 in 101_food_classes_10_percent/train/clam_chowder\n",
            "There are 0 directories in 75 in 101_food_classes_10_percent/train/eggs_benedict\n",
            "There are 0 directories in 75 in 101_food_classes_10_percent/train/risotto\n",
            "There are 0 directories in 75 in 101_food_classes_10_percent/train/gnocchi\n",
            "There are 0 directories in 75 in 101_food_classes_10_percent/train/hot_and_sour_soup\n",
            "There are 0 directories in 75 in 101_food_classes_10_percent/train/macarons\n",
            "There are 0 directories in 75 in 101_food_classes_10_percent/train/huevos_rancheros\n",
            "There are 0 directories in 75 in 101_food_classes_10_percent/train/bruschetta\n",
            "There are 0 directories in 75 in 101_food_classes_10_percent/train/oysters\n",
            "There are 0 directories in 75 in 101_food_classes_10_percent/train/fried_rice\n",
            "There are 0 directories in 75 in 101_food_classes_10_percent/train/garlic_bread\n",
            "There are 0 directories in 75 in 101_food_classes_10_percent/train/grilled_salmon\n",
            "There are 0 directories in 75 in 101_food_classes_10_percent/train/steak\n",
            "There are 0 directories in 75 in 101_food_classes_10_percent/train/pancakes\n",
            "There are 0 directories in 75 in 101_food_classes_10_percent/train/ravioli\n",
            "There are 0 directories in 75 in 101_food_classes_10_percent/train/fish_and_chips\n",
            "There are 0 directories in 75 in 101_food_classes_10_percent/train/ceviche\n",
            "There are 0 directories in 75 in 101_food_classes_10_percent/train/baby_back_ribs\n",
            "There are 0 directories in 75 in 101_food_classes_10_percent/train/french_fries\n",
            "There are 0 directories in 75 in 101_food_classes_10_percent/train/foie_gras\n",
            "There are 0 directories in 75 in 101_food_classes_10_percent/train/lobster_roll_sandwich\n",
            "There are 0 directories in 75 in 101_food_classes_10_percent/train/sashimi\n",
            "There are 0 directories in 75 in 101_food_classes_10_percent/train/mussels\n",
            "There are 0 directories in 75 in 101_food_classes_10_percent/train/grilled_cheese_sandwich\n",
            "There are 0 directories in 75 in 101_food_classes_10_percent/train/bibimbap\n",
            "There are 0 directories in 75 in 101_food_classes_10_percent/train/chocolate_mousse\n",
            "There are 0 directories in 75 in 101_food_classes_10_percent/train/nachos\n",
            "There are 0 directories in 75 in 101_food_classes_10_percent/train/greek_salad\n",
            "There are 0 directories in 75 in 101_food_classes_10_percent/train/fried_calamari\n",
            "There are 0 directories in 75 in 101_food_classes_10_percent/train/crab_cakes\n",
            "There are 0 directories in 75 in 101_food_classes_10_percent/train/hamburger\n",
            "There are 0 directories in 75 in 101_food_classes_10_percent/train/seaweed_salad\n",
            "There are 0 directories in 75 in 101_food_classes_10_percent/train/beef_carpaccio\n",
            "There are 0 directories in 75 in 101_food_classes_10_percent/train/tacos\n",
            "There are 0 directories in 75 in 101_food_classes_10_percent/train/creme_brulee\n",
            "There are 0 directories in 75 in 101_food_classes_10_percent/train/deviled_eggs\n",
            "There are 0 directories in 75 in 101_food_classes_10_percent/train/onion_rings\n",
            "There are 0 directories in 75 in 101_food_classes_10_percent/train/club_sandwich\n",
            "There are 0 directories in 75 in 101_food_classes_10_percent/train/caprese_salad\n",
            "There are 0 directories in 75 in 101_food_classes_10_percent/train/prime_rib\n",
            "There are 0 directories in 75 in 101_food_classes_10_percent/train/falafel\n",
            "There are 0 directories in 75 in 101_food_classes_10_percent/train/filet_mignon\n",
            "There are 0 directories in 75 in 101_food_classes_10_percent/train/tuna_tartare\n",
            "There are 0 directories in 75 in 101_food_classes_10_percent/train/baklava\n",
            "There are 0 directories in 75 in 101_food_classes_10_percent/train/omelette\n",
            "There are 0 directories in 75 in 101_food_classes_10_percent/train/hummus\n",
            "There are 0 directories in 75 in 101_food_classes_10_percent/train/poutine\n",
            "There are 0 directories in 75 in 101_food_classes_10_percent/train/donuts\n",
            "There are 0 directories in 75 in 101_food_classes_10_percent/train/chicken_curry\n",
            "There are 0 directories in 75 in 101_food_classes_10_percent/train/beignets\n",
            "There are 0 directories in 75 in 101_food_classes_10_percent/train/chicken_wings\n",
            "There are 0 directories in 75 in 101_food_classes_10_percent/train/lasagna\n",
            "There are 0 directories in 75 in 101_food_classes_10_percent/train/sushi\n",
            "There are 0 directories in 75 in 101_food_classes_10_percent/train/beef_tartare\n",
            "There are 0 directories in 75 in 101_food_classes_10_percent/train/ramen\n",
            "There are 0 directories in 75 in 101_food_classes_10_percent/train/gyoza\n",
            "There are 0 directories in 75 in 101_food_classes_10_percent/train/cup_cakes\n",
            "There are 0 directories in 75 in 101_food_classes_10_percent/train/scallops\n",
            "There are 0 directories in 75 in 101_food_classes_10_percent/train/peking_duck\n",
            "There are 0 directories in 75 in 101_food_classes_10_percent/train/pulled_pork_sandwich\n",
            "There are 0 directories in 75 in 101_food_classes_10_percent/train/guacamole\n",
            "There are 0 directories in 75 in 101_food_classes_10_percent/train/cheese_plate\n",
            "There are 0 directories in 75 in 101_food_classes_10_percent/train/chocolate_cake\n",
            "There are 0 directories in 75 in 101_food_classes_10_percent/train/spaghetti_bolognese\n",
            "There are 0 directories in 75 in 101_food_classes_10_percent/train/pizza\n",
            "There are 101 directories in 0 in 101_food_classes_10_percent/test\n",
            "There are 0 directories in 250 in 101_food_classes_10_percent/test/edamame\n",
            "There are 0 directories in 250 in 101_food_classes_10_percent/test/churros\n",
            "There are 0 directories in 250 in 101_food_classes_10_percent/test/carrot_cake\n",
            "There are 0 directories in 250 in 101_food_classes_10_percent/test/french_onion_soup\n",
            "There are 0 directories in 250 in 101_food_classes_10_percent/test/dumplings\n",
            "There are 0 directories in 250 in 101_food_classes_10_percent/test/pork_chop\n",
            "There are 0 directories in 250 in 101_food_classes_10_percent/test/waffles\n",
            "There are 0 directories in 250 in 101_food_classes_10_percent/test/apple_pie\n",
            "There are 0 directories in 250 in 101_food_classes_10_percent/test/hot_dog\n",
            "There are 0 directories in 250 in 101_food_classes_10_percent/test/shrimp_and_grits\n",
            "There are 0 directories in 250 in 101_food_classes_10_percent/test/tiramisu\n",
            "There are 0 directories in 250 in 101_food_classes_10_percent/test/breakfast_burrito\n",
            "There are 0 directories in 250 in 101_food_classes_10_percent/test/red_velvet_cake\n",
            "There are 0 directories in 250 in 101_food_classes_10_percent/test/croque_madame\n",
            "There are 0 directories in 250 in 101_food_classes_10_percent/test/caesar_salad\n",
            "There are 0 directories in 250 in 101_food_classes_10_percent/test/strawberry_shortcake\n",
            "There are 0 directories in 250 in 101_food_classes_10_percent/test/macaroni_and_cheese\n",
            "There are 0 directories in 250 in 101_food_classes_10_percent/test/lobster_bisque\n",
            "There are 0 directories in 250 in 101_food_classes_10_percent/test/french_toast\n",
            "There are 0 directories in 250 in 101_food_classes_10_percent/test/cannoli\n",
            "There are 0 directories in 250 in 101_food_classes_10_percent/test/cheesecake\n",
            "There are 0 directories in 250 in 101_food_classes_10_percent/test/pho\n",
            "There are 0 directories in 250 in 101_food_classes_10_percent/test/pad_thai\n",
            "There are 0 directories in 250 in 101_food_classes_10_percent/test/ice_cream\n",
            "There are 0 directories in 250 in 101_food_classes_10_percent/test/spaghetti_carbonara\n",
            "There are 0 directories in 250 in 101_food_classes_10_percent/test/paella\n",
            "There are 0 directories in 250 in 101_food_classes_10_percent/test/samosa\n",
            "There are 0 directories in 250 in 101_food_classes_10_percent/test/spring_rolls\n",
            "There are 0 directories in 250 in 101_food_classes_10_percent/test/miso_soup\n",
            "There are 0 directories in 250 in 101_food_classes_10_percent/test/beet_salad\n",
            "There are 0 directories in 250 in 101_food_classes_10_percent/test/chicken_quesadilla\n",
            "There are 0 directories in 250 in 101_food_classes_10_percent/test/frozen_yogurt\n",
            "There are 0 directories in 250 in 101_food_classes_10_percent/test/panna_cotta\n",
            "There are 0 directories in 250 in 101_food_classes_10_percent/test/escargots\n",
            "There are 0 directories in 250 in 101_food_classes_10_percent/test/bread_pudding\n",
            "There are 0 directories in 250 in 101_food_classes_10_percent/test/takoyaki\n",
            "There are 0 directories in 250 in 101_food_classes_10_percent/test/clam_chowder\n",
            "There are 0 directories in 250 in 101_food_classes_10_percent/test/eggs_benedict\n",
            "There are 0 directories in 250 in 101_food_classes_10_percent/test/risotto\n",
            "There are 0 directories in 250 in 101_food_classes_10_percent/test/gnocchi\n",
            "There are 0 directories in 250 in 101_food_classes_10_percent/test/hot_and_sour_soup\n",
            "There are 0 directories in 250 in 101_food_classes_10_percent/test/macarons\n",
            "There are 0 directories in 250 in 101_food_classes_10_percent/test/huevos_rancheros\n",
            "There are 0 directories in 250 in 101_food_classes_10_percent/test/bruschetta\n",
            "There are 0 directories in 250 in 101_food_classes_10_percent/test/oysters\n",
            "There are 0 directories in 250 in 101_food_classes_10_percent/test/fried_rice\n",
            "There are 0 directories in 250 in 101_food_classes_10_percent/test/garlic_bread\n",
            "There are 0 directories in 250 in 101_food_classes_10_percent/test/grilled_salmon\n",
            "There are 0 directories in 250 in 101_food_classes_10_percent/test/steak\n",
            "There are 0 directories in 250 in 101_food_classes_10_percent/test/pancakes\n",
            "There are 0 directories in 250 in 101_food_classes_10_percent/test/ravioli\n",
            "There are 0 directories in 250 in 101_food_classes_10_percent/test/fish_and_chips\n",
            "There are 0 directories in 250 in 101_food_classes_10_percent/test/ceviche\n",
            "There are 0 directories in 250 in 101_food_classes_10_percent/test/baby_back_ribs\n",
            "There are 0 directories in 250 in 101_food_classes_10_percent/test/french_fries\n",
            "There are 0 directories in 250 in 101_food_classes_10_percent/test/foie_gras\n",
            "There are 0 directories in 250 in 101_food_classes_10_percent/test/lobster_roll_sandwich\n",
            "There are 0 directories in 250 in 101_food_classes_10_percent/test/sashimi\n",
            "There are 0 directories in 250 in 101_food_classes_10_percent/test/mussels\n",
            "There are 0 directories in 250 in 101_food_classes_10_percent/test/grilled_cheese_sandwich\n",
            "There are 0 directories in 250 in 101_food_classes_10_percent/test/bibimbap\n",
            "There are 0 directories in 250 in 101_food_classes_10_percent/test/chocolate_mousse\n",
            "There are 0 directories in 250 in 101_food_classes_10_percent/test/nachos\n",
            "There are 0 directories in 250 in 101_food_classes_10_percent/test/greek_salad\n",
            "There are 0 directories in 250 in 101_food_classes_10_percent/test/fried_calamari\n",
            "There are 0 directories in 250 in 101_food_classes_10_percent/test/crab_cakes\n",
            "There are 0 directories in 250 in 101_food_classes_10_percent/test/hamburger\n",
            "There are 0 directories in 250 in 101_food_classes_10_percent/test/seaweed_salad\n",
            "There are 0 directories in 250 in 101_food_classes_10_percent/test/beef_carpaccio\n",
            "There are 0 directories in 250 in 101_food_classes_10_percent/test/tacos\n",
            "There are 0 directories in 250 in 101_food_classes_10_percent/test/creme_brulee\n",
            "There are 0 directories in 250 in 101_food_classes_10_percent/test/deviled_eggs\n",
            "There are 0 directories in 250 in 101_food_classes_10_percent/test/onion_rings\n",
            "There are 0 directories in 250 in 101_food_classes_10_percent/test/club_sandwich\n",
            "There are 0 directories in 250 in 101_food_classes_10_percent/test/caprese_salad\n",
            "There are 0 directories in 250 in 101_food_classes_10_percent/test/prime_rib\n",
            "There are 0 directories in 250 in 101_food_classes_10_percent/test/falafel\n",
            "There are 0 directories in 250 in 101_food_classes_10_percent/test/filet_mignon\n",
            "There are 0 directories in 250 in 101_food_classes_10_percent/test/tuna_tartare\n",
            "There are 0 directories in 250 in 101_food_classes_10_percent/test/baklava\n",
            "There are 0 directories in 250 in 101_food_classes_10_percent/test/omelette\n",
            "There are 0 directories in 250 in 101_food_classes_10_percent/test/hummus\n",
            "There are 0 directories in 250 in 101_food_classes_10_percent/test/poutine\n",
            "There are 0 directories in 250 in 101_food_classes_10_percent/test/donuts\n",
            "There are 0 directories in 250 in 101_food_classes_10_percent/test/chicken_curry\n",
            "There are 0 directories in 250 in 101_food_classes_10_percent/test/beignets\n",
            "There are 0 directories in 250 in 101_food_classes_10_percent/test/chicken_wings\n",
            "There are 0 directories in 250 in 101_food_classes_10_percent/test/lasagna\n",
            "There are 0 directories in 250 in 101_food_classes_10_percent/test/sushi\n",
            "There are 0 directories in 250 in 101_food_classes_10_percent/test/beef_tartare\n",
            "There are 0 directories in 250 in 101_food_classes_10_percent/test/ramen\n",
            "There are 0 directories in 250 in 101_food_classes_10_percent/test/gyoza\n",
            "There are 0 directories in 250 in 101_food_classes_10_percent/test/cup_cakes\n",
            "There are 0 directories in 250 in 101_food_classes_10_percent/test/scallops\n",
            "There are 0 directories in 250 in 101_food_classes_10_percent/test/peking_duck\n",
            "There are 0 directories in 250 in 101_food_classes_10_percent/test/pulled_pork_sandwich\n",
            "There are 0 directories in 250 in 101_food_classes_10_percent/test/guacamole\n",
            "There are 0 directories in 250 in 101_food_classes_10_percent/test/cheese_plate\n",
            "There are 0 directories in 250 in 101_food_classes_10_percent/test/chocolate_cake\n",
            "There are 0 directories in 250 in 101_food_classes_10_percent/test/spaghetti_bolognese\n",
            "There are 0 directories in 250 in 101_food_classes_10_percent/test/pizza\n"
          ]
        }
      ]
    },
    {
      "cell_type": "code",
      "source": [
        "#Creating a train and test diretories\n",
        "train_dir = \"101_food_classes_10_percent/train/\"\n",
        "test_dir = \"101_food_classes_10_percent/test/\""
      ],
      "metadata": {
        "id": "nAcGiw23W8Nb"
      },
      "execution_count": 5,
      "outputs": []
    },
    {
      "cell_type": "code",
      "source": [
        "#Data preparation\n",
        "import tensorflow as tf\n",
        "IMAGE_SIZE = (224,224)\n",
        "\n",
        "train_data = tf.keras.preprocessing.image_dataset_from_directory(train_dir,\n",
        "                                                                 image_size=IMAGE_SIZE,\n",
        "                                                                 batch_size=32,\n",
        "                                                                 label_mode=\"categorical\")\n",
        "\n",
        "test_data = tf.keras.preprocessing.image_dataset_from_directory(test_dir, \n",
        "                                                                image_size=IMAGE_SIZE,\n",
        "                                                                batch_size=32,\n",
        "                                                                label_mode = \"categorical\",\n",
        "                                                                shuffle = False)#We are going to repeat the evaluation so we are setting shuffle=False"
      ],
      "metadata": {
        "colab": {
          "base_uri": "https://localhost:8080/"
        },
        "id": "LWjmqkBeYSmh",
        "outputId": "f5ca9202-c9dc-42fa-98e8-684565f59d75"
      },
      "execution_count": 6,
      "outputs": [
        {
          "output_type": "stream",
          "name": "stdout",
          "text": [
            "Found 7575 files belonging to 101 classes.\n",
            "Found 25250 files belonging to 101 classes.\n"
          ]
        }
      ]
    },
    {
      "cell_type": "code",
      "source": [
        "train_data.class_names, len(train_data.class_names)"
      ],
      "metadata": {
        "colab": {
          "base_uri": "https://localhost:8080/"
        },
        "id": "WKR0edl1Zll5",
        "outputId": "7f5cb28d-913e-4137-a3a9-b73fe7f9c774"
      },
      "execution_count": 7,
      "outputs": [
        {
          "output_type": "execute_result",
          "data": {
            "text/plain": [
              "(['apple_pie',\n",
              "  'baby_back_ribs',\n",
              "  'baklava',\n",
              "  'beef_carpaccio',\n",
              "  'beef_tartare',\n",
              "  'beet_salad',\n",
              "  'beignets',\n",
              "  'bibimbap',\n",
              "  'bread_pudding',\n",
              "  'breakfast_burrito',\n",
              "  'bruschetta',\n",
              "  'caesar_salad',\n",
              "  'cannoli',\n",
              "  'caprese_salad',\n",
              "  'carrot_cake',\n",
              "  'ceviche',\n",
              "  'cheese_plate',\n",
              "  'cheesecake',\n",
              "  'chicken_curry',\n",
              "  'chicken_quesadilla',\n",
              "  'chicken_wings',\n",
              "  'chocolate_cake',\n",
              "  'chocolate_mousse',\n",
              "  'churros',\n",
              "  'clam_chowder',\n",
              "  'club_sandwich',\n",
              "  'crab_cakes',\n",
              "  'creme_brulee',\n",
              "  'croque_madame',\n",
              "  'cup_cakes',\n",
              "  'deviled_eggs',\n",
              "  'donuts',\n",
              "  'dumplings',\n",
              "  'edamame',\n",
              "  'eggs_benedict',\n",
              "  'escargots',\n",
              "  'falafel',\n",
              "  'filet_mignon',\n",
              "  'fish_and_chips',\n",
              "  'foie_gras',\n",
              "  'french_fries',\n",
              "  'french_onion_soup',\n",
              "  'french_toast',\n",
              "  'fried_calamari',\n",
              "  'fried_rice',\n",
              "  'frozen_yogurt',\n",
              "  'garlic_bread',\n",
              "  'gnocchi',\n",
              "  'greek_salad',\n",
              "  'grilled_cheese_sandwich',\n",
              "  'grilled_salmon',\n",
              "  'guacamole',\n",
              "  'gyoza',\n",
              "  'hamburger',\n",
              "  'hot_and_sour_soup',\n",
              "  'hot_dog',\n",
              "  'huevos_rancheros',\n",
              "  'hummus',\n",
              "  'ice_cream',\n",
              "  'lasagna',\n",
              "  'lobster_bisque',\n",
              "  'lobster_roll_sandwich',\n",
              "  'macaroni_and_cheese',\n",
              "  'macarons',\n",
              "  'miso_soup',\n",
              "  'mussels',\n",
              "  'nachos',\n",
              "  'omelette',\n",
              "  'onion_rings',\n",
              "  'oysters',\n",
              "  'pad_thai',\n",
              "  'paella',\n",
              "  'pancakes',\n",
              "  'panna_cotta',\n",
              "  'peking_duck',\n",
              "  'pho',\n",
              "  'pizza',\n",
              "  'pork_chop',\n",
              "  'poutine',\n",
              "  'prime_rib',\n",
              "  'pulled_pork_sandwich',\n",
              "  'ramen',\n",
              "  'ravioli',\n",
              "  'red_velvet_cake',\n",
              "  'risotto',\n",
              "  'samosa',\n",
              "  'sashimi',\n",
              "  'scallops',\n",
              "  'seaweed_salad',\n",
              "  'shrimp_and_grits',\n",
              "  'spaghetti_bolognese',\n",
              "  'spaghetti_carbonara',\n",
              "  'spring_rolls',\n",
              "  'steak',\n",
              "  'strawberry_shortcake',\n",
              "  'sushi',\n",
              "  'tacos',\n",
              "  'takoyaki',\n",
              "  'tiramisu',\n",
              "  'tuna_tartare',\n",
              "  'waffles'],\n",
              " 101)"
            ]
          },
          "metadata": {},
          "execution_count": 7
        }
      ]
    },
    {
      "cell_type": "code",
      "source": [
        "# Create checkpoint callback to save model for later use\n",
        "checkpoint_path = \"101_classes_10_percent_data_model_checkpoint\"\n",
        "checkpoint_callback = tf.keras.callbacks.ModelCheckpoint(checkpoint_path,\n",
        "                                                         save_weights_only=True, # save only the model weights\n",
        "                                                         monitor=\"val_accuracy\", # save the model weights which score the best validation accuracy\n",
        "                                                         save_best_only=True)"
      ],
      "metadata": {
        "id": "FI6oSfoTaGqB"
      },
      "execution_count": 8,
      "outputs": []
    },
    {
      "cell_type": "markdown",
      "source": [
        "We created a model checkpoint, now we are going to create a data augumentation because we are working with lesser training images"
      ],
      "metadata": {
        "id": "pa8_FN2mcKeR"
      }
    },
    {
      "cell_type": "code",
      "source": [
        "#Importing the required_model\n",
        "from tensorflow.keras import layers\n",
        "from tensorflow.keras.layers.experimental import preprocessing\n",
        "from tensorflow.keras.models import Sequential\n",
        "\n",
        "data_augumentation = Sequential([\n",
        "        preprocessing.RandomFlip(\"horizontal\"),\n",
        "        preprocessing.RandomRotation(0.2),\n",
        "        preprocessing.RandomZoom(0.2),\n",
        "        preprocessing.RandomHeight(0.2),\n",
        "        preprocessing.RandomWidth(0.2)\n",
        "])"
      ],
      "metadata": {
        "id": "YQ30rHV7cknY"
      },
      "execution_count": 9,
      "outputs": []
    },
    {
      "cell_type": "code",
      "source": [
        "#Setting up a base model and freeze the layer\n",
        "base_model = tf.keras.applications.EfficientNetB0(include_top=False)\n",
        "base_model.trainable = False\n",
        "\n",
        "#Functional api\n",
        "inputs = layers.Input(shape=(224,224,3),name = \"input_layer\")\n",
        "x = data_augumentation(inputs)\n",
        "x = base_model(x, training=False)#Putting the base model in the inference mode so, we can use without updating weights\n",
        "x = layers.GlobalAveragePooling2D(name=\"global_average_pooling\")(x)\n",
        "outputs = layers.Dense(len(train_data.class_names), activation= \"softmax\", name = \"output_layer\")(x)\n",
        "model = tf.keras.Model(inputs, outputs)"
      ],
      "metadata": {
        "id": "X0t-Ed5xvj4T",
        "colab": {
          "base_uri": "https://localhost:8080/"
        },
        "outputId": "9ef20c87-6020-4141-d0cb-1f77e3ba23f2"
      },
      "execution_count": 10,
      "outputs": [
        {
          "output_type": "stream",
          "name": "stdout",
          "text": [
            "Downloading data from https://storage.googleapis.com/keras-applications/efficientnetb0_notop.h5\n",
            "16711680/16705208 [==============================] - 0s 0us/step\n",
            "16719872/16705208 [==============================] - 0s 0us/step\n"
          ]
        }
      ]
    },
    {
      "cell_type": "code",
      "source": [
        "model.summary()"
      ],
      "metadata": {
        "colab": {
          "base_uri": "https://localhost:8080/"
        },
        "id": "m95e8obZy3b6",
        "outputId": "945a3615-57b7-4dfd-8bdb-a7a7d423fc62"
      },
      "execution_count": 11,
      "outputs": [
        {
          "output_type": "stream",
          "name": "stdout",
          "text": [
            "Model: \"model\"\n",
            "_________________________________________________________________\n",
            " Layer (type)                Output Shape              Param #   \n",
            "=================================================================\n",
            " input_layer (InputLayer)    [(None, 224, 224, 3)]     0         \n",
            "                                                                 \n",
            " sequential (Sequential)     (None, 224, 224, 3)       0         \n",
            "                                                                 \n",
            " efficientnetb0 (Functional)  (None, None, None, 1280)  4049571  \n",
            "                                                                 \n",
            " global_average_pooling (Glo  (None, 1280)             0         \n",
            " balAveragePooling2D)                                            \n",
            "                                                                 \n",
            " output_layer (Dense)        (None, 101)               129381    \n",
            "                                                                 \n",
            "=================================================================\n",
            "Total params: 4,178,952\n",
            "Trainable params: 129,381\n",
            "Non-trainable params: 4,049,571\n",
            "_________________________________________________________________\n"
          ]
        }
      ]
    },
    {
      "cell_type": "code",
      "source": [
        "#Compile\n",
        "model.compile(loss = \"categorical_crossentropy\",\n",
        "              optimizer = tf.keras.optimizers.Adam(),\n",
        "              metrics = [\"accuracy\"])\n",
        "\n",
        "#Fitting the model\n",
        "history = model.fit(train_data,\n",
        "                    epochs = 5,\n",
        "                    steps_per_epoch=len(train_data),\n",
        "                    validation_data = test_data,\n",
        "                    validation_steps = int(0.15*len(test_data)),\n",
        "                    callbacks =[checkpoint_callback])\n"
      ],
      "metadata": {
        "colab": {
          "base_uri": "https://localhost:8080/"
        },
        "id": "6nNkdINbzM9w",
        "outputId": "8e412a2a-31f4-4094-9d41-da08a7246203"
      },
      "execution_count": 12,
      "outputs": [
        {
          "output_type": "stream",
          "name": "stdout",
          "text": [
            "Epoch 1/5\n",
            "237/237 [==============================] - 93s 320ms/step - loss: 3.4788 - accuracy: 0.2465 - val_loss: 2.7037 - val_accuracy: 0.3951\n",
            "Epoch 2/5\n",
            "237/237 [==============================] - 58s 242ms/step - loss: 2.3489 - accuracy: 0.4639 - val_loss: 2.2680 - val_accuracy: 0.4489\n",
            "Epoch 3/5\n",
            "237/237 [==============================] - 54s 225ms/step - loss: 1.9821 - accuracy: 0.5303 - val_loss: 2.1194 - val_accuracy: 0.4735\n",
            "Epoch 4/5\n",
            "237/237 [==============================] - 50s 208ms/step - loss: 1.7568 - accuracy: 0.5740 - val_loss: 2.0434 - val_accuracy: 0.4801\n",
            "Epoch 5/5\n",
            "237/237 [==============================] - 47s 198ms/step - loss: 1.6054 - accuracy: 0.6121 - val_loss: 1.9498 - val_accuracy: 0.4971\n"
          ]
        }
      ]
    },
    {
      "cell_type": "code",
      "source": [
        "result = model.evaluate(test_data)"
      ],
      "metadata": {
        "colab": {
          "base_uri": "https://localhost:8080/"
        },
        "id": "RKZuflbTbcls",
        "outputId": "028b0738-793b-4e57-cf00-330dfa6470ec"
      },
      "execution_count": 13,
      "outputs": [
        {
          "output_type": "stream",
          "name": "stdout",
          "text": [
            "790/790 [==============================] - 59s 74ms/step - loss: 1.7149 - accuracy: 0.5552\n"
          ]
        }
      ]
    },
    {
      "cell_type": "code",
      "source": [
        "result"
      ],
      "metadata": {
        "colab": {
          "base_uri": "https://localhost:8080/"
        },
        "id": "OwAgI8dSm6pV",
        "outputId": "4416aac6-6432-4de4-d0b8-278e89a4a985"
      },
      "execution_count": 14,
      "outputs": [
        {
          "output_type": "execute_result",
          "data": {
            "text/plain": [
              "[1.7148972749710083, 0.5551683306694031]"
            ]
          },
          "metadata": {},
          "execution_count": 14
        }
      ]
    },
    {
      "cell_type": "code",
      "source": [
        "import matplotlib.pyplot as plt\n",
        "%matplotlib inline\n",
        "\n",
        "def plot_loss_curves(history):\n",
        "  \"\"\"\n",
        "  Returns separate loss curves for training and validation metrics.\n",
        "  Args:\n",
        "    history: TensorFlow model History object (see: https://www.tensorflow.org/api_docs/python/tf/keras/callbacks/History)\n",
        "  \"\"\" \n",
        "  loss = history.history['loss']\n",
        "  val_loss = history.history['val_loss']\n",
        "\n",
        "  accuracy = history.history['accuracy']\n",
        "  val_accuracy = history.history['val_accuracy']\n",
        "\n",
        "  epochs = range(len(history.history['loss']))\n",
        "\n",
        "  # Plot loss\n",
        "  plt.plot(epochs, loss, label='training_loss')\n",
        "  plt.plot(epochs, val_loss, label='val_loss')\n",
        "  plt.title('Loss')\n",
        "  plt.xlabel('Epochs')\n",
        "  plt.legend()\n",
        "\n",
        "  # Plot accuracy\n",
        "  plt.figure()\n",
        "  plt.plot(epochs, accuracy, label='training_accuracy')\n",
        "  plt.plot(epochs, val_accuracy, label='val_accuracy')\n",
        "  plt.title('Accuracy')\n",
        "  plt.xlabel('Epochs')\n",
        "  plt.legend();"
      ],
      "metadata": {
        "id": "G5V2rfG8nhnj"
      },
      "execution_count": 15,
      "outputs": []
    },
    {
      "cell_type": "code",
      "source": [
        "plot_loss_curves(history)"
      ],
      "metadata": {
        "colab": {
          "base_uri": "https://localhost:8080/",
          "height": 573
        },
        "id": "HJ_OTdxMnpzM",
        "outputId": "a49e73d4-f8ab-46dc-a050-b99a7119be70"
      },
      "execution_count": 16,
      "outputs": [
        {
          "output_type": "display_data",
          "data": {
            "image/png": "[encoded data removed]",
            "text/plain": [
              "<Figure size 432x288 with 1 Axes>"
            ]
          },
          "metadata": {
            "needs_background": "light"
          }
        },
        {
          "output_type": "display_data",
          "data": {
            "image/png": "[encoded data removed]",
            "text/plain": [
              "<Figure size 432x288 with 1 Axes>"
            ]
          },
          "metadata": {
            "needs_background": "light"
          }
        }
      ]
    },
    {
      "cell_type": "code",
      "source": [
        "#Fine_tuning the model- Let's unfreeze some of the layers\n",
        "base_model.trainable = True\n",
        "\n",
        "# Refreeze every layer except for the last 5\n",
        "for layer in base_model.layers[:-5]:\n",
        "  layer.trainable=False"
      ],
      "metadata": {
        "id": "AuQ_1L-HPiPm"
      },
      "execution_count": 17,
      "outputs": []
    },
    {
      "cell_type": "code",
      "source": [
        "for layer_number, layer in enumerate(base_model.layers):\n",
        "  print(layer_number, layer.name, layer.trainable)"
      ],
      "metadata": {
        "colab": {
          "base_uri": "https://localhost:8080/"
        },
        "id": "vRQlVwz0RCcG",
        "outputId": "5d6121a4-b874-41e2-ba04-b5f5c7e7ccc1"
      },
      "execution_count": 18,
      "outputs": [
        {
          "output_type": "stream",
          "name": "stdout",
          "text": [
            "0 input_1 False\n",
            "1 rescaling False\n",
            "2 normalization False\n",
            "3 stem_conv_pad False\n",
            "4 stem_conv False\n",
            "5 stem_bn False\n",
            "6 stem_activation False\n",
            "7 block1a_dwconv False\n",
            "8 block1a_bn False\n",
            "9 block1a_activation False\n",
            "10 block1a_se_squeeze False\n",
            "11 block1a_se_reshape False\n",
            "12 block1a_se_reduce False\n",
            "13 block1a_se_expand False\n",
            "14 block1a_se_excite False\n",
            "15 block1a_project_conv False\n",
            "16 block1a_project_bn False\n",
            "17 block2a_expand_conv False\n",
            "18 block2a_expand_bn False\n",
            "19 block2a_expand_activation False\n",
            "20 block2a_dwconv_pad False\n",
            "21 block2a_dwconv False\n",
            "22 block2a_bn False\n",
            "23 block2a_activation False\n",
            "24 block2a_se_squeeze False\n",
            "25 block2a_se_reshape False\n",
            "26 block2a_se_reduce False\n",
            "27 block2a_se_expand False\n",
            "28 block2a_se_excite False\n",
            "29 block2a_project_conv False\n",
            "30 block2a_project_bn False\n",
            "31 block2b_expand_conv False\n",
            "32 block2b_expand_bn False\n",
            "33 block2b_expand_activation False\n",
            "34 block2b_dwconv False\n",
            "35 block2b_bn False\n",
            "36 block2b_activation False\n",
            "37 block2b_se_squeeze False\n",
            "38 block2b_se_reshape False\n",
            "39 block2b_se_reduce False\n",
            "40 block2b_se_expand False\n",
            "41 block2b_se_excite False\n",
            "42 block2b_project_conv False\n",
            "43 block2b_project_bn False\n",
            "44 block2b_drop False\n",
            "45 block2b_add False\n",
            "46 block3a_expand_conv False\n",
            "47 block3a_expand_bn False\n",
            "48 block3a_expand_activation False\n",
            "49 block3a_dwconv_pad False\n",
            "50 block3a_dwconv False\n",
            "51 block3a_bn False\n",
            "52 block3a_activation False\n",
            "53 block3a_se_squeeze False\n",
            "54 block3a_se_reshape False\n",
            "55 block3a_se_reduce False\n",
            "56 block3a_se_expand False\n",
            "57 block3a_se_excite False\n",
            "58 block3a_project_conv False\n",
            "59 block3a_project_bn False\n",
            "60 block3b_expand_conv False\n",
            "61 block3b_expand_bn False\n",
            "62 block3b_expand_activation False\n",
            "63 block3b_dwconv False\n",
            "64 block3b_bn False\n",
            "65 block3b_activation False\n",
            "66 block3b_se_squeeze False\n",
            "67 block3b_se_reshape False\n",
            "68 block3b_se_reduce False\n",
            "69 block3b_se_expand False\n",
            "70 block3b_se_excite False\n",
            "71 block3b_project_conv False\n",
            "72 block3b_project_bn False\n",
            "73 block3b_drop False\n",
            "74 block3b_add False\n",
            "75 block4a_expand_conv False\n",
            "76 block4a_expand_bn False\n",
            "77 block4a_expand_activation False\n",
            "78 block4a_dwconv_pad False\n",
            "79 block4a_dwconv False\n",
            "80 block4a_bn False\n",
            "81 block4a_activation False\n",
            "82 block4a_se_squeeze False\n",
            "83 block4a_se_reshape False\n",
            "84 block4a_se_reduce False\n",
            "85 block4a_se_expand False\n",
            "86 block4a_se_excite False\n",
            "87 block4a_project_conv False\n",
            "88 block4a_project_bn False\n",
            "89 block4b_expand_conv False\n",
            "90 block4b_expand_bn False\n",
            "91 block4b_expand_activation False\n",
            "92 block4b_dwconv False\n",
            "93 block4b_bn False\n",
            "94 block4b_activation False\n",
            "95 block4b_se_squeeze False\n",
            "96 block4b_se_reshape False\n",
            "97 block4b_se_reduce False\n",
            "98 block4b_se_expand False\n",
            "99 block4b_se_excite False\n",
            "100 block4b_project_conv False\n",
            "101 block4b_project_bn False\n",
            "102 block4b_drop False\n",
            "103 block4b_add False\n",
            "104 block4c_expand_conv False\n",
            "105 block4c_expand_bn False\n",
            "106 block4c_expand_activation False\n",
            "107 block4c_dwconv False\n",
            "108 block4c_bn False\n",
            "109 block4c_activation False\n",
            "110 block4c_se_squeeze False\n",
            "111 block4c_se_reshape False\n",
            "112 block4c_se_reduce False\n",
            "113 block4c_se_expand False\n",
            "114 block4c_se_excite False\n",
            "115 block4c_project_conv False\n",
            "116 block4c_project_bn False\n",
            "117 block4c_drop False\n",
            "118 block4c_add False\n",
            "119 block5a_expand_conv False\n",
            "120 block5a_expand_bn False\n",
            "121 block5a_expand_activation False\n",
            "122 block5a_dwconv False\n",
            "123 block5a_bn False\n",
            "124 block5a_activation False\n",
            "125 block5a_se_squeeze False\n",
            "126 block5a_se_reshape False\n",
            "127 block5a_se_reduce False\n",
            "128 block5a_se_expand False\n",
            "129 block5a_se_excite False\n",
            "130 block5a_project_conv False\n",
            "131 block5a_project_bn False\n",
            "132 block5b_expand_conv False\n",
            "133 block5b_expand_bn False\n",
            "134 block5b_expand_activation False\n",
            "135 block5b_dwconv False\n",
            "136 block5b_bn False\n",
            "137 block5b_activation False\n",
            "138 block5b_se_squeeze False\n",
            "139 block5b_se_reshape False\n",
            "140 block5b_se_reduce False\n",
            "141 block5b_se_expand False\n",
            "142 block5b_se_excite False\n",
            "143 block5b_project_conv False\n",
            "144 block5b_project_bn False\n",
            "145 block5b_drop False\n",
            "146 block5b_add False\n",
            "147 block5c_expand_conv False\n",
            "148 block5c_expand_bn False\n",
            "149 block5c_expand_activation False\n",
            "150 block5c_dwconv False\n",
            "151 block5c_bn False\n",
            "152 block5c_activation False\n",
            "153 block5c_se_squeeze False\n",
            "154 block5c_se_reshape False\n",
            "155 block5c_se_reduce False\n",
            "156 block5c_se_expand False\n",
            "157 block5c_se_excite False\n",
            "158 block5c_project_conv False\n",
            "159 block5c_project_bn False\n",
            "160 block5c_drop False\n",
            "161 block5c_add False\n",
            "162 block6a_expand_conv False\n",
            "163 block6a_expand_bn False\n",
            "164 block6a_expand_activation False\n",
            "165 block6a_dwconv_pad False\n",
            "166 block6a_dwconv False\n",
            "167 block6a_bn False\n",
            "168 block6a_activation False\n",
            "169 block6a_se_squeeze False\n",
            "170 block6a_se_reshape False\n",
            "171 block6a_se_reduce False\n",
            "172 block6a_se_expand False\n",
            "173 block6a_se_excite False\n",
            "174 block6a_project_conv False\n",
            "175 block6a_project_bn False\n",
            "176 block6b_expand_conv False\n",
            "177 block6b_expand_bn False\n",
            "178 block6b_expand_activation False\n",
            "179 block6b_dwconv False\n",
            "180 block6b_bn False\n",
            "181 block6b_activation False\n",
            "182 block6b_se_squeeze False\n",
            "183 block6b_se_reshape False\n",
            "184 block6b_se_reduce False\n",
            "185 block6b_se_expand False\n",
            "186 block6b_se_excite False\n",
            "187 block6b_project_conv False\n",
            "188 block6b_project_bn False\n",
            "189 block6b_drop False\n",
            "190 block6b_add False\n",
            "191 block6c_expand_conv False\n",
            "192 block6c_expand_bn False\n",
            "193 block6c_expand_activation False\n",
            "194 block6c_dwconv False\n",
            "195 block6c_bn False\n",
            "196 block6c_activation False\n",
            "197 block6c_se_squeeze False\n",
            "198 block6c_se_reshape False\n",
            "199 block6c_se_reduce False\n",
            "200 block6c_se_expand False\n",
            "201 block6c_se_excite False\n",
            "202 block6c_project_conv False\n",
            "203 block6c_project_bn False\n",
            "204 block6c_drop False\n",
            "205 block6c_add False\n",
            "206 block6d_expand_conv False\n",
            "207 block6d_expand_bn False\n",
            "208 block6d_expand_activation False\n",
            "209 block6d_dwconv False\n",
            "210 block6d_bn False\n",
            "211 block6d_activation False\n",
            "212 block6d_se_squeeze False\n",
            "213 block6d_se_reshape False\n",
            "214 block6d_se_reduce False\n",
            "215 block6d_se_expand False\n",
            "216 block6d_se_excite False\n",
            "217 block6d_project_conv False\n",
            "218 block6d_project_bn False\n",
            "219 block6d_drop False\n",
            "220 block6d_add False\n",
            "221 block7a_expand_conv False\n",
            "222 block7a_expand_bn False\n",
            "223 block7a_expand_activation False\n",
            "224 block7a_dwconv False\n",
            "225 block7a_bn False\n",
            "226 block7a_activation False\n",
            "227 block7a_se_squeeze False\n",
            "228 block7a_se_reshape False\n",
            "229 block7a_se_reduce False\n",
            "230 block7a_se_expand False\n",
            "231 block7a_se_excite False\n",
            "232 block7a_project_conv True\n",
            "233 block7a_project_bn True\n",
            "234 top_conv True\n",
            "235 top_bn True\n",
            "236 top_activation True\n"
          ]
        }
      ]
    },
    {
      "cell_type": "code",
      "source": [
        "for layer in model.layers:\n",
        "  print(layer.name, layer.trainable)"
      ],
      "metadata": {
        "colab": {
          "base_uri": "https://localhost:8080/"
        },
        "id": "e9hbXGzqRGFl",
        "outputId": "051bb165-1981-497b-becb-82a7137d2fdb"
      },
      "execution_count": 19,
      "outputs": [
        {
          "output_type": "stream",
          "name": "stdout",
          "text": [
            "input_layer True\n",
            "sequential True\n",
            "efficientnetb0 True\n",
            "global_average_pooling True\n",
            "output_layer True\n"
          ]
        }
      ]
    },
    {
      "cell_type": "code",
      "source": [
        "model.compile(loss = \"categorical_crossentropy\",\n",
        "              optimizer = tf.keras.optimizers.Adam(1e-4),\n",
        "              metrics = [\"accuracy\"])"
      ],
      "metadata": {
        "id": "S6PyeFUKSKFF"
      },
      "execution_count": 20,
      "outputs": []
    },
    {
      "cell_type": "code",
      "source": [
        "fine_tune_epoch = 10\n",
        "\n",
        "history_fine_tune = model.fit(train_data,\n",
        "                              epochs = fine_tune_epoch,\n",
        "                              validation_data = test_data,\n",
        "                              steps_per_epoch= len(train_data),\n",
        "                              validation_steps =int(0.15*len(test_data)),\n",
        "                              initial_epoch = history.epoch[-1])"
      ],
      "metadata": {
        "colab": {
          "base_uri": "https://localhost:8080/"
        },
        "id": "mQQiOdmOTlkE",
        "outputId": "a9089100-170b-42cb-9d74-2d81472d7643"
      },
      "execution_count": 21,
      "outputs": [
        {
          "output_type": "stream",
          "name": "stdout",
          "text": [
            "Epoch 5/10\n",
            "237/237 [==============================] - 58s 215ms/step - loss: 1.3495 - accuracy: 0.6499 - val_loss: 1.9007 - val_accuracy: 0.5056\n",
            "Epoch 6/10\n",
            "237/237 [==============================] - 42s 174ms/step - loss: 1.2341 - accuracy: 0.6726 - val_loss: 1.9230 - val_accuracy: 0.5003\n",
            "Epoch 7/10\n",
            "237/237 [==============================] - 43s 179ms/step - loss: 1.1666 - accuracy: 0.6928 - val_loss: 1.9347 - val_accuracy: 0.5064\n",
            "Epoch 8/10\n",
            "237/237 [==============================] - 41s 172ms/step - loss: 1.0779 - accuracy: 0.7156 - val_loss: 1.8772 - val_accuracy: 0.5175\n",
            "Epoch 9/10\n",
            "237/237 [==============================] - 38s 159ms/step - loss: 1.0345 - accuracy: 0.7234 - val_loss: 1.9182 - val_accuracy: 0.5077\n",
            "Epoch 10/10\n",
            "237/237 [==============================] - 37s 153ms/step - loss: 0.9629 - accuracy: 0.7469 - val_loss: 1.8696 - val_accuracy: 0.5215\n"
          ]
        }
      ]
    },
    {
      "cell_type": "code",
      "source": [
        "!wget https://raw.githubusercontent.com/mrdbourke/tensorflow-deep-learning/main/extras/helper_functions.py"
      ],
      "metadata": {
        "colab": {
          "base_uri": "https://localhost:8080/"
        },
        "id": "ngv3edWmU9ps",
        "outputId": "1e40935a-2d90-4cd9-9ec8-4e4b3eaa95ec"
      },
      "execution_count": 22,
      "outputs": [
        {
          "output_type": "stream",
          "name": "stdout",
          "text": [
            "--2022-02-16 14:56:10--  https://raw.githubusercontent.com/mrdbourke/tensorflow-deep-learning/main/extras/helper_functions.py\n",
            "Resolving raw.githubusercontent.com (raw.githubusercontent.com)... 185.199.108.133, 185.199.109.133, 185.199.110.133, ...\n",
            "Connecting to raw.githubusercontent.com (raw.githubusercontent.com)|185.199.108.133|:443... connected.\n",
            "HTTP request sent, awaiting response... 200 OK\n",
            "Length: 10246 (10K) [text/plain]\n",
            "Saving to: ‘helper_functions.py’\n",
            "\n",
            "\rhelper_functions.py   0%[                    ]       0  --.-KB/s               \rhelper_functions.py 100%[===================>]  10.01K  --.-KB/s    in 0s      \n",
            "\n",
            "2022-02-16 14:56:10 (65.5 MB/s) - ‘helper_functions.py’ saved [10246/10246]\n",
            "\n"
          ]
        }
      ]
    },
    {
      "cell_type": "code",
      "source": [
        "from helper_functions import compare_historys\n",
        "compare_historys(history, history_fine_tune, initial_epochs=5)"
      ],
      "metadata": {
        "colab": {
          "base_uri": "https://localhost:8080/",
          "height": 513
        },
        "id": "IW2q9kwbVoQ-",
        "outputId": "40229495-3774-4144-ed29-a2b38d05e5b7"
      },
      "execution_count": 23,
      "outputs": [
        {
          "output_type": "display_data",
          "data": {
            "image/png": "[encoded data removed]",
            "text/plain": [
              "<Figure size 576x576 with 2 Axes>"
            ]
          },
          "metadata": {
            "needs_background": "light"
          }
        }
      ]
    },
    {
      "cell_type": "code",
      "source": [
        ""
      ],
      "metadata": {
        "id": "zZNiNOpqe33e"
      },
      "execution_count": 23,
      "outputs": []
    }
  ]
}